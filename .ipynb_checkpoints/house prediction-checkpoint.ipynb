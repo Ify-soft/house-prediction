{
 "cells": [
  {
   "cell_type": "code",
   "execution_count": 39,
   "id": "9a23200e",
   "metadata": {},
   "outputs": [],
   "source": [
    "def good():\n",
    "    print('i love jesus')\n",
    "    def come():\n",
    "        print('come up hither')\n",
    "    return come\n",
    "    \n",
    "def display():\n",
    "    print('nobody is like him')"
   ]
  },
  {
   "cell_type": "code",
   "execution_count": 42,
   "id": "76a5043f",
   "metadata": {},
   "outputs": [
    {
     "ename": "SyntaxError",
     "evalue": "unexpected EOF while parsing (690231893.py, line 8)",
     "output_type": "error",
     "traceback": [
      "\u001b[1;36m  Input \u001b[1;32mIn [42]\u001b[1;36m\u001b[0m\n\u001b[1;33m    a(\u001b[0m\n\u001b[1;37m      ^\u001b[0m\n\u001b[1;31mSyntaxError\u001b[0m\u001b[1;31m:\u001b[0m unexpected EOF while parsing\n"
     ]
    }
   ],
   "source": [
    "a=good()\n",
    "a\n",
    "a()\n",
    "\n",
    "good()\n",
    "good()\n",
    "good()\n"
   ]
  },
  {
   "cell_type": "code",
   "execution_count": null,
   "id": "a6d53f39",
   "metadata": {},
   "outputs": [],
   "source": []
  },
  {
   "cell_type": "code",
   "execution_count": 1,
   "id": "693610e7",
   "metadata": {},
   "outputs": [],
   "source": [
    "import random"
   ]
  },
  {
   "cell_type": "code",
   "execution_count": 2,
   "id": "cb727707",
   "metadata": {},
   "outputs": [],
   "source": [
    "import tkinter as tk"
   ]
  },
  {
   "cell_type": "code",
   "execution_count": 1,
   "id": "f8349563",
   "metadata": {},
   "outputs": [],
   "source": [
    "# good to know this"
   ]
  },
  {
   "cell_type": "code",
   "execution_count": 2,
   "id": "65e91847",
   "metadata": {},
   "outputs": [
    {
     "data": {
      "text/plain": [
       "4"
      ]
     },
     "execution_count": 2,
     "metadata": {},
     "output_type": "execute_result"
    }
   ],
   "source": [
    "2* 2"
   ]
  },
  {
   "cell_type": "code",
   "execution_count": null,
   "id": "2cc99605",
   "metadata": {},
   "outputs": [],
   "source": []
  }
 ],
 "metadata": {
  "kernelspec": {
   "display_name": "Python 3 (ipykernel)",
   "language": "python",
   "name": "python3"
  },
  "language_info": {
   "codemirror_mode": {
    "name": "ipython",
    "version": 3
   },
   "file_extension": ".py",
   "mimetype": "text/x-python",
   "name": "python",
   "nbconvert_exporter": "python",
   "pygments_lexer": "ipython3",
   "version": "3.9.5"
  }
 },
 "nbformat": 4,
 "nbformat_minor": 5
}
