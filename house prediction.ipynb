{
 "cells": [
  {
   "cell_type": "code",
   "execution_count": 2,
   "id": "9a23200e",
   "metadata": {},
   "outputs": [],
   "source": [
    "def good():\n",
    "    print('i love jesus')\n",
    "    def come():\n",
    "        print('come up hither')\n",
    "    return come\n",
    "    \n",
    "def display():\n",
    "    print('nobody is like him')"
   ]
  },
  {
   "cell_type": "code",
   "execution_count": 3,
   "id": "76a5043f",
   "metadata": {},
   "outputs": [
    {
     "name": "stdout",
     "output_type": "stream",
     "text": [
      "i love jesus\n",
      "come up hither\n",
      "i love jesus\n",
      "i love jesus\n",
      "i love jesus\n"
     ]
    },
    {
     "data": {
      "text/plain": [
       "<function __main__.good.<locals>.come()>"
      ]
     },
     "execution_count": 3,
     "metadata": {},
     "output_type": "execute_result"
    }
   ],
   "source": [
    "a=good()\n",
    "a\n",
    "a()\n",
    "\n",
    "good()\n",
    "good()\n",
    "good()\n"
   ]
  },
  {
   "cell_type": "code",
   "execution_count": 32,
   "id": "a6d53f39",
   "metadata": {},
   "outputs": [
    {
     "name": "stdout",
     "output_type": "stream",
     "text": [
      "how are you doing? \n"
     ]
    },
    {
     "ename": "NameError",
     "evalue": "name '__file__' is not defined",
     "output_type": "error",
     "traceback": [
      "\u001b[1;31m---------------------------------------------------------------------------\u001b[0m",
      "\u001b[1;31mNameError\u001b[0m                                 Traceback (most recent call last)",
      "Input \u001b[1;32mIn [32]\u001b[0m, in \u001b[0;36m<cell line: 12>\u001b[1;34m()\u001b[0m\n\u001b[0;32m      9\u001b[0m     \u001b[38;5;28mprint\u001b[39m(\u001b[38;5;124m\"\u001b[39m\u001b[38;5;124mdisplay function ran\u001b[39m\u001b[38;5;124m\"\u001b[39m)\n\u001b[0;32m     11\u001b[0m decorated_display \u001b[38;5;241m=\u001b[39m decorator_function(display)\n\u001b[1;32m---> 12\u001b[0m \u001b[43mdecorated_display\u001b[49m\u001b[43m(\u001b[49m\u001b[43m)\u001b[49m\n",
      "Input \u001b[1;32mIn [32]\u001b[0m, in \u001b[0;36mdecorator_function.<locals>.wrapper_function\u001b[1;34m()\u001b[0m\n\u001b[0;32m      3\u001b[0m \u001b[38;5;28;01mdef\u001b[39;00m \u001b[38;5;21mwrapper_function\u001b[39m():\n\u001b[1;32m----> 4\u001b[0m     \u001b[38;5;28mprint\u001b[39m(\u001b[38;5;124m'\u001b[39m\u001b[38;5;124mwrapper execute this before \u001b[39m\u001b[38;5;132;01m{}\u001b[39;00m\u001b[38;5;124m'\u001b[39m\u001b[38;5;241m.\u001b[39mformat(\u001b[38;5;28mrepr\u001b[39m(\u001b[38;5;18;43m__file__\u001b[39;49m)))\n\u001b[0;32m      5\u001b[0m     \u001b[38;5;28;01mreturn\u001b[39;00m original_function()\n",
      "\u001b[1;31mNameError\u001b[0m: name '__file__' is not defined"
     ]
    }
   ],
   "source": [
    "\n",
    "def decorator_function(original_function):\n",
    "    print(\"how are you doing? \")\n",
    "    def wrapper_function():\n",
    "        print('wrapper execute this before {}'.format()\n",
    "        return original_function()\n",
    "    return wrapper_function\n",
    "\n",
    "def display():\n",
    "    print(\"display function ran\")\n",
    "    \n",
    "decorated_display = decorator_function(display)\n",
    "decorated_display()\n"
   ]
  },
  {
   "cell_type": "code",
   "execution_count": 28,
   "id": "693610e7",
   "metadata": {},
   "outputs": [],
   "source": [
    "import random"
   ]
  },
  {
   "cell_type": "code",
   "execution_count": 2,
   "id": "cb727707",
   "metadata": {},
   "outputs": [],
   "source": [
    "import tkinter as tk"
   ]
  },
  {
   "cell_type": "code",
   "execution_count": 1,
   "id": "f8349563",
   "metadata": {},
   "outputs": [],
   "source": [
    "# good to know this"
   ]
  },
  {
   "cell_type": "code",
   "execution_count": 2,
   "id": "65e91847",
   "metadata": {},
   "outputs": [
    {
     "data": {
      "text/plain": [
       "4"
      ]
     },
     "execution_count": 2,
     "metadata": {},
     "output_type": "execute_result"
    }
   ],
   "source": [
    "2* 2"
   ]
  },
  {
   "cell_type": "code",
   "execution_count": null,
   "id": "2cc99605",
   "metadata": {},
   "outputs": [],
   "source": []
  }
 ],
 "metadata": {
  "kernelspec": {
   "display_name": "Python 3 (ipykernel)",
   "language": "python",
   "name": "python3"
  },
  "language_info": {
   "codemirror_mode": {
    "name": "ipython",
    "version": 3
   },
   "file_extension": ".py",
   "mimetype": "text/x-python",
   "name": "python",
   "nbconvert_exporter": "python",
   "pygments_lexer": "ipython3",
   "version": "3.9.5"
  }
 },
 "nbformat": 4,
 "nbformat_minor": 5
}
